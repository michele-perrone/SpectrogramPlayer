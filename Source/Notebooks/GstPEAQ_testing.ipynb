{
  "nbformat": 4,
  "nbformat_minor": 0,
  "metadata": {
    "colab": {
      "name": "GstPEAQ testing.ipynb",
      "provenance": [],
      "collapsed_sections": [],
      "include_colab_link": true
    },
    "kernelspec": {
      "name": "python3",
      "display_name": "Python 3"
    },
    "language_info": {
      "name": "python"
    }
  },
  "cells": [
    {
      "cell_type": "markdown",
      "metadata": {
        "id": "view-in-github",
        "colab_type": "text"
      },
      "source": [
        "<a href=\"https://colab.research.google.com/github/michele-perrone/SpectrogramPlayer/blob/main/Source/Notebooks/GstPEAQ_testing.ipynb\" target=\"_parent\"><img src=\"https://colab.research.google.com/assets/colab-badge.svg\" alt=\"Open In Colab\"/></a>"
      ]
    },
    {
      "cell_type": "markdown",
      "source": [
        "#**GstPEAQ testing**\n",
        "In this notebook, we use GstPEAQ to test the results obtained by the various techniques.   \n",
        "The audio clips must be available as `.wav` audio files.   \n",
        "Please note that GstPEAQ comes only as Gst plugin or as a command-line utility. We will use it as the former by creating command strings to be executed on the local terminal. Therefore, you must install GstPEAQ on you local machine in order to run this notebook.   \n",
        "**Important!** Make sure you set the correct `project_path`"
      ],
      "metadata": {
        "id": "8DEFAHUVXWQ9"
      }
    },
    {
      "cell_type": "code",
      "source": [
        "# Import necessary libraries\n",
        "\n",
        "import numpy as np\n",
        "import pickle\n",
        "import librosa\n",
        "import pathlib\n",
        "from pathlib import Path\n",
        "import os\n",
        "import subprocess\n",
        "import soundfile as sf\n",
        "import pickle as pkl"
      ],
      "metadata": {
        "id": "PqeeisYHZTp3"
      },
      "execution_count": null,
      "outputs": []
    },
    {
      "cell_type": "code",
      "execution_count": null,
      "metadata": {
        "colab": {
          "base_uri": "https://localhost:8080/"
        },
        "id": "rawhse63XRh8",
        "outputId": "19cf17cb-4fa7-4cb5-8953-5a6ced329b0b"
      },
      "outputs": [
        {
          "output_type": "stream",
          "name": "stdout",
          "text": [
            "/home/michele/Projects/SpectrogramPlayer\n"
          ]
        }
      ],
      "source": [
        "# Set the project path\n",
        "\n",
        "project_path = pathlib.Path('/home/michele/Projects/SpectrogramPlayer')\n",
        "%cd $project_path"
      ]
    },
    {
      "cell_type": "code",
      "source": [
        "# Test if GstPEAQ is available\n",
        "\n",
        "output = subprocess.check_output(\"peaq --help\", shell=True)\n",
        "print(output.decode())"
      ],
      "metadata": {
        "colab": {
          "base_uri": "https://localhost:8080/"
        },
        "id": "r9ii1I50YRQB",
        "outputId": "cd67b4ad-caf5-459f-c7b4-33442b8d1c8d"
      },
      "execution_count": null,
      "outputs": [
        {
          "output_type": "stream",
          "name": "stdout",
          "text": [
            "Usage:\n",
            "  peaq [OPTION?] REFFILE TESTFILE\n",
            "\n",
            "peaq computes the Objective Difference Grade based on ITU-R BS.1367-1 (but it\n",
            "does not meet its conformance requirements).\n",
            "\n",
            "Help Options:\n",
            "  -h, --help                        Show help options\n",
            "  --help-all                        Show all help options\n",
            "  --help-gst                        Show GStreamer Options\n",
            "\n",
            "Application Options:\n",
            "  --version                         print version information\n",
            "  --advanced                        use advanced version\n",
            "  --basic                           use basic version (default)\n",
            "\n",
            "Report bugs to: <martin.holters@hsu-hh.de>\n",
            "GstPEAQ home page: <http://ant.hsu-hh.de/gstpeaq>\n",
            "\n"
          ]
        }
      ]
    },
    {
      "cell_type": "code",
      "source": [
        "# Make a list of the paths where the different genres reside\n",
        "\n",
        "speech_results_path = pathlib.Path('./Results/Speech')\n",
        "speech_results_path = pathlib.Path(os.path.join(project_path, speech_results_path))\n",
        "\n",
        "music_results_path = pathlib.Path('./Results/Music')\n",
        "music_results_path = pathlib.Path(os.path.join(project_path, music_results_path))\n",
        "\n",
        "urban_results_path = pathlib.Path('./Results/Urban')\n",
        "urban_results_path = pathlib.Path(os.path.join(project_path, urban_results_path))\n",
        "\n",
        "results_path_list = {'speech': speech_results_path, \n",
        "                     'music': music_results_path, \n",
        "                     'urban': urban_results_path}"
      ],
      "metadata": {
        "id": "3PDPepF5YKzm"
      },
      "execution_count": null,
      "outputs": []
    },
    {
      "cell_type": "code",
      "source": [
        "num_of_test_files = 20\n",
        "\n",
        "# For each genre... (music, speech, urban)\n",
        "for current_genre in results_path_list: ## <---- FOR EACH GENRE BEGINS\n",
        "  \n",
        "  # Print the genre we're dealing with\n",
        "  print(\"Currently processing: %s\" %(current_genre))\n",
        "\n",
        "  # Initialize an empty dictionary for PEAQ results\n",
        "  peaq = {\n",
        "      'no_phase': np.empty((num_of_test_files, 1), dtype=float),\n",
        "      'griffin_lim': np.empty((num_of_test_files, 1), dtype=float),\n",
        "      'deepgl_biased_70': np.empty((num_of_test_files, 1), dtype=float),\n",
        "      'deepgl_unbiased_70': np.empty((num_of_test_files, 1), dtype=float),\n",
        "      'melgan': np.empty((num_of_test_files, 1), dtype=float),\n",
        "      'hifigan': np.empty((num_of_test_files, 1), dtype=float),\n",
        "      'uniglow': np.empty((num_of_test_files, 1), dtype=float),\n",
        "      'squeezewave': np.empty((num_of_test_files, 1), dtype=float),\n",
        "      'univnet': np.empty((num_of_test_files, 1), dtype=float),\n",
        "  }\n",
        "\n",
        "  # Import the pickle dictionary for this genre.\n",
        "  # We're going to append to it the testing results of GSTPeaq (the `peaq` dictionary allocated above!)\n",
        "  in_file = open(os.path.join(results_path_list[current_genre], 'metrics_' + current_genre + '.pkl'), \"rb\")\n",
        "  metrics = pickle.load(in_file)\n",
        "  in_file.close()\n",
        "\n",
        "  # For each folder in the results path...\n",
        "  # (each folder corresponds to a technique)\n",
        "  for current_dir in results_path_list[current_genre].iterdir(): ## <---- FOR EACH TECHNIQUE BEGINS\n",
        "    \n",
        "    # ... check if it's a directory and that it's not the \"signals_* folder\"\n",
        "    if current_dir.is_dir() and not str(current_dir.name).startswith(\"signals_\"):\n",
        "      current_technique = current_dir.name.replace('_' + current_genre,'')\n",
        "      print(\"Current technique: %s\" %(current_technique))\n",
        "      print(\"Current folder: %s\" %(current_dir))\n",
        "      \n",
        "      # Compare the reference signals with the reconstructed signals\n",
        "      for current_rcstr_signal_path in sorted(current_dir.iterdir()): # Ordered in ascending order (same order as ref. signals!!)\n",
        "        # For each reconstructed signal that we found, we go and look for the\n",
        "        # reference signal in the \"signals_*\" folder.\n",
        "\n",
        "        # Reference signal path:\n",
        "        current_ref_signal_path = str(current_rcstr_signal_path).replace(str(current_technique), 'signals')\n",
        "        print(\"Reference signal path: %s\" %(current_ref_signal_path))\n",
        "        # Reconstructed signal path:\n",
        "        print(\"Reconstructed signal path: %s\" %(current_rcstr_signal_path))\n",
        "        \n",
        "        # Compose the command string, used to invoke peaq from the console\n",
        "        command = \"peaq --basic %s %s\" %(current_ref_signal_path, current_rcstr_signal_path)\n",
        "        # Call peaq and store the output\n",
        "        current_peaq_output = subprocess.check_output(command, shell=True).decode()\n",
        "        # We have to un-format the output and keep only the Objective Difference Grade \n",
        "        current_peaq_output = subprocess.check_output(command, shell=True).decode().partition('\\n')\n",
        "        objective_difference_grade = float(current_peaq_output[0] # Keep only the first line\n",
        "                                          .replace('Objective Difference Grade: ', '') # Remove the description\n",
        "                                          ) # Convert the string to float [1,5]\n",
        "        distortion_index = float(current_peaq_output[2] # Keep only the second line\n",
        "                            .replace('Distortion Index: ', '') # Remove the description\n",
        "                            )# Convert the string to float                                \n",
        "        print(\"Objective difference grade: %.3f. Distortion index: %.3f\\n\" %(objective_difference_grade, distortion_index))\n",
        "        # Store the ODG in the dictionary\n",
        "        idx = int(current_rcstr_signal_path.name.replace('.wav', ''))\n",
        "        peaq[current_technique][idx] = objective_difference_grade\n",
        "        \n",
        "    print(\"\\n\") ## <---- FOR EACH TECHNIQUE ENDS\n",
        "  \n",
        "  print(\"\\n\") ## <---- FOR EACH GENRE ENDS\n",
        "  \n",
        "  # Append the PEAQ results for this genre to the existing dictionary and save it to file\n",
        "  metrics = {'RMSE': metrics['RMSE'],\n",
        "            'NRMSE': metrics['NRMSE'],\n",
        "            'PESQ': metrics['PESQ'],\n",
        "            'MOSNET': metrics['MOSNET'],\n",
        "            'RMSE_phase': metrics['RMSE_phase'],\n",
        "            'NRMSE_phase': metrics['NRMSE_phase'],\n",
        "            'PEAQ': peaq\n",
        "            }\n",
        "\n",
        "  out_file = open(os.path.join(results_path_list[current_genre], 'metrics_' + current_genre + '.pkl'), \"wb\")\n",
        "  pickle.dump(metrics, out_file)\n",
        "  out_file.close()"
      ],
      "metadata": {
        "id": "ExiFB_bxYMHh"
      },
      "execution_count": null,
      "outputs": []
    }
  ]
}