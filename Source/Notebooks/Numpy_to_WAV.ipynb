{
  "nbformat": 4,
  "nbformat_minor": 0,
  "metadata": {
    "colab": {
      "name": "Numpy to WAV.ipynb",
      "provenance": [],
      "collapsed_sections": [],
      "authorship_tag": "ABX9TyOYSeqWjhALv5h3p5JP78yp",
      "include_colab_link": true
    },
    "kernelspec": {
      "name": "python3",
      "display_name": "Python 3"
    },
    "language_info": {
      "name": "python"
    }
  },
  "cells": [
    {
      "cell_type": "markdown",
      "metadata": {
        "id": "view-in-github",
        "colab_type": "text"
      },
      "source": [
        "<a href=\"https://colab.research.google.com/github/michele-perrone/SpectrogramPlayer/blob/main/Source/Numpy_to_WAV.ipynb\" target=\"_parent\"><img src=\"https://colab.research.google.com/assets/colab-badge.svg\" alt=\"Open In Colab\"/></a>"
      ]
    },
    {
      "cell_type": "markdown",
      "source": [
        "# **Numpy to WAV**\n",
        "This notebook is used for converting numpy arrays containing audio fragments into wav files.  \n",
        "The audio fragments are both the originals and the reconstructed ones.  \n",
        "The WAV files are then used to compute the PEAQ and MOSnet metrics.   \n",
        "**Important!** Make sure you set the correct `project_path`"
      ],
      "metadata": {
        "id": "lxtiQcNrEEXA"
      }
    },
    {
      "cell_type": "code",
      "source": [
        "# Set the project path\n",
        "\n",
        "project_path = pathlib.Path('/home/michele/Projects/SpectrogramPlayer')\n",
        "%cd $project_path"
      ],
      "metadata": {
        "colab": {
          "base_uri": "https://localhost:8080/"
        },
        "id": "S5YMauOSFvxK",
        "outputId": "31dcd438-bf3b-4d02-a1e6-07f46793aed1"
      },
      "execution_count": 41,
      "outputs": [
        {
          "output_type": "stream",
          "name": "stdout",
          "text": [
            "/home/michele/Projects/SpectrogramPlayer\n"
          ]
        }
      ]
    },
    {
      "cell_type": "code",
      "source": [
        "# Import necessary libraries\n",
        "\n",
        "import numpy as np\n",
        "import pickle\n",
        "import librosa\n",
        "import pathlib\n",
        "from pathlib import Path  \n",
        "import os\n",
        "import soundfile as sf"
      ],
      "metadata": {
        "id": "OfM9LCzDF1nI"
      },
      "execution_count": 39,
      "outputs": []
    },
    {
      "cell_type": "code",
      "source": [
        "# Make a list of the paths where the different genres reside\n",
        "\n",
        "speech_results_path = pathlib.Path('./Results/Speech')\n",
        "speech_results_path = pathlib.Path(os.path.join(project_path, speech_results_path))\n",
        "\n",
        "music_results_path = pathlib.Path('./Results/Music')\n",
        "music_results_path = pathlib.Path(os.path.join(project_path, music_results_path))\n",
        "\n",
        "urban_results_path = pathlib.Path('./Results/Urban')\n",
        "urban_results_path = pathlib.Path(os.path.join(project_path, urban_results_path))\n",
        "\n",
        "results_path_list = [speech_results_path, music_results_path, urban_results_path]"
      ],
      "metadata": {
        "id": "6DnIMv4bGSPh"
      },
      "execution_count": 60,
      "outputs": []
    },
    {
      "cell_type": "code",
      "source": [
        "# Each numpy array has to become a folder,\n",
        "# containing all the audio clips present in that array.\n",
        "\n",
        "# For each genre... (music, speech, urban)\n",
        "for current_results_path in results_path_list:\n",
        "  # Print the genre we're dealing with\n",
        "  print(\"Currently processing %s\" %(current_results_path))\n",
        "  # For each file in the results path...\n",
        "  for current_file in current_results_path.iterdir():\n",
        "    \n",
        "    # ... check if it's a file and if the extension in \".npy\" ...\n",
        "    if not current_file.is_dir() and str(current_file).endswith(\".npy\"):\n",
        "      \n",
        "      # Load the current array\n",
        "      current_array = np.load(current_file, allow_pickle=True)\n",
        "      \n",
        "      # Create a folder with the same name of the array, but without the \".npy\" extension\n",
        "      current_folder_name = str(current_file).replace(\".npy\", \"\")\n",
        "      current_folder_path = os.path.join(current_results_path, current_folder_name)\n",
        "      os.makedirs(current_folder_path, exist_ok=True)\n",
        "      print(\"Current folder: %s\" %(current_folder_path))\n",
        "      \n",
        "      # Now that we have created the folder, we iterate through the audio clips\n",
        "      # of \"current_array\", and write them as wav files into the \"current_folder\"\n",
        "      idx_audio_clip = 0\n",
        "      for audio_clip in current_array:\n",
        "        current_filename = str(idx_audio_clip) + \".wav\"\n",
        "        sf.write(os.path.join(current_folder_path, current_filename) , audio_clip, samplerate=22050)\n",
        "        idx_audio_clip = idx_audio_clip+1\n",
        "  print(\"\\n\")"
      ],
      "metadata": {
        "colab": {
          "base_uri": "https://localhost:8080/"
        },
        "id": "5keAbdzqFfE6",
        "outputId": "08bb573b-518b-4c0d-c5eb-6dc22d814eb9"
      },
      "execution_count": 65,
      "outputs": [
        {
          "output_type": "stream",
          "name": "stdout",
          "text": [
            "Currently processing /home/michele/Projects/SpectrogramPlayer/Results/Speech\n",
            "Current folder: /home/michele/Projects/SpectrogramPlayer/Results/Speech/signals_speech\n",
            "Current folder: /home/michele/Projects/SpectrogramPlayer/Results/Speech/uniglow_speech\n",
            "Current folder: /home/michele/Projects/SpectrogramPlayer/Results/Speech/griffin_lim_speech\n",
            "Current folder: /home/michele/Projects/SpectrogramPlayer/Results/Speech/melgan_speech\n",
            "Current folder: /home/michele/Projects/SpectrogramPlayer/Results/Speech/squeezewave_speech\n",
            "Current folder: /home/michele/Projects/SpectrogramPlayer/Results/Speech/deepgl_speech\n",
            "Current folder: /home/michele/Projects/SpectrogramPlayer/Results/Speech/hifigan_speech\n",
            "Current folder: /home/michele/Projects/SpectrogramPlayer/Results/Speech/univnet_speech\n",
            "Current folder: /home/michele/Projects/SpectrogramPlayer/Results/Speech/no_phase_speech\n",
            "\n",
            "\n",
            "Currently processing /home/michele/Projects/SpectrogramPlayer/Results/Music\n",
            "Current folder: /home/michele/Projects/SpectrogramPlayer/Results/Music/no_phase_music\n",
            "Current folder: /home/michele/Projects/SpectrogramPlayer/Results/Music/uniglow_music\n",
            "Current folder: /home/michele/Projects/SpectrogramPlayer/Results/Music/griffin_lim_music\n",
            "Current folder: /home/michele/Projects/SpectrogramPlayer/Results/Music/univnet_music\n",
            "Current folder: /home/michele/Projects/SpectrogramPlayer/Results/Music/squeezewave_music\n",
            "Current folder: /home/michele/Projects/SpectrogramPlayer/Results/Music/signals_music\n",
            "Current folder: /home/michele/Projects/SpectrogramPlayer/Results/Music/melgan_music\n",
            "Current folder: /home/michele/Projects/SpectrogramPlayer/Results/Music/hifigan_music\n",
            "\n",
            "\n",
            "Currently processing /home/michele/Projects/SpectrogramPlayer/Results/Urban\n",
            "Current folder: /home/michele/Projects/SpectrogramPlayer/Results/Urban/hifigan_urban\n",
            "Current folder: /home/michele/Projects/SpectrogramPlayer/Results/Urban/univnet_urban\n",
            "Current folder: /home/michele/Projects/SpectrogramPlayer/Results/Urban/uniglow_urban\n",
            "Current folder: /home/michele/Projects/SpectrogramPlayer/Results/Urban/signals_urban\n",
            "Current folder: /home/michele/Projects/SpectrogramPlayer/Results/Urban/melgan_urban\n",
            "Current folder: /home/michele/Projects/SpectrogramPlayer/Results/Urban/no_phase_urban\n",
            "Current folder: /home/michele/Projects/SpectrogramPlayer/Results/Urban/griffin_lim_urban\n",
            "Current folder: /home/michele/Projects/SpectrogramPlayer/Results/Urban/squeezewave_urban\n",
            "\n",
            "\n"
          ]
        }
      ]
    }
  ]
}