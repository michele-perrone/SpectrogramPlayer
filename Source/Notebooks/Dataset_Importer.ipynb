{
  "nbformat": 4,
  "nbformat_minor": 0,
  "metadata": {
    "colab": {
      "name": "Dataset Importer.ipynb",
      "provenance": [],
      "collapsed_sections": [],
      "authorship_tag": "ABX9TyOdUOH889joxzPoesr103gR",
      "include_colab_link": true
    },
    "kernelspec": {
      "name": "python3",
      "display_name": "Python 3"
    },
    "language_info": {
      "name": "python"
    }
  },
  "cells": [
    {
      "cell_type": "markdown",
      "metadata": {
        "id": "view-in-github",
        "colab_type": "text"
      },
      "source": [
        "<a href=\"https://colab.research.google.com/github/michele-perrone/SpectrogramPlayer/blob/main/Source/Dataset_Importer.ipynb\" target=\"_parent\"><img src=\"https://colab.research.google.com/assets/colab-badge.svg\" alt=\"Open In Colab\"/></a>"
      ]
    },
    {
      "cell_type": "markdown",
      "source": [
        "# Dataset Importer\n",
        "This notebook download the datasets and stores them in separate folders located on Google Drive. This is done to avoid downloading the datasets every time we need them in a notebook."
      ],
      "metadata": {
        "id": "3TxBk7-_3Orf"
      }
    },
    {
      "cell_type": "code",
      "execution_count": null,
      "metadata": {
        "id": "R8Ncptna3JS3"
      },
      "outputs": [],
      "source": [
        "# Mount the Google Drive\n",
        "\n",
        "from google.colab import drive\n",
        "drive.mount('/content/gdrive')"
      ]
    },
    {
      "cell_type": "code",
      "source": [
        "# For Kaggle datasets: configure the Kaggle environment\n",
        "\n",
        "import os\n",
        "os.environ['KAGGLE_CONFIG_DIR'] = '/content/gdrive/MyDrive/SpectrogramPlayer/'\n",
        "!cd '/content/gdrive/MyDrive/SpectrogramPlayer/' && chmod 600 kaggle.json"
      ],
      "metadata": {
        "id": "w4zvb2nQr1BK"
      },
      "execution_count": null,
      "outputs": []
    },
    {
      "cell_type": "markdown",
      "source": [
        "## LJSpeech dataset\n",
        "Dataset containing speech fragments"
      ],
      "metadata": {
        "id": "HC4VZ4Q3uq4l"
      }
    },
    {
      "cell_type": "code",
      "source": [
        "!kaggle datasets download -d rahulbhalley/ljspeech11"
      ],
      "metadata": {
        "colab": {
          "base_uri": "https://localhost:8080/"
        },
        "id": "8I94ySaRr4dE",
        "outputId": "349faca1-38ff-4c08-adad-300ba1f50628"
      },
      "execution_count": null,
      "outputs": [
        {
          "output_type": "stream",
          "name": "stdout",
          "text": [
            "Downloading ljspeech11.zip to /content\n",
            " 99% 2.97G/2.99G [00:21<00:00, 162MB/s]\n",
            "100% 2.99G/2.99G [00:21<00:00, 150MB/s]\n"
          ]
        }
      ]
    },
    {
      "cell_type": "code",
      "source": [
        "!unzip \\*.zip -d '/content/gdrive/MyDrive/SpectrogramPlayer/LJSPEECH11' && rm *.zip"
      ],
      "metadata": {
        "id": "WxWxdskrttT0"
      },
      "execution_count": null,
      "outputs": []
    },
    {
      "cell_type": "markdown",
      "source": [
        "## GTZan dataset\n",
        "Dataset containing audio excerpts of different musical genres"
      ],
      "metadata": {
        "id": "Nd_lTeWFmxXg"
      }
    },
    {
      "cell_type": "code",
      "source": [
        "!kaggle datasets download -d andradaolteanu/gtzan-dataset-music-genre-classification"
      ],
      "metadata": {
        "colab": {
          "base_uri": "https://localhost:8080/"
        },
        "id": "_CboNtN9rKNc",
        "outputId": "9cceff02-235b-4bf1-d3d5-4efb6b1624c4"
      },
      "execution_count": null,
      "outputs": [
        {
          "output_type": "stream",
          "name": "stdout",
          "text": [
            "Downloading gtzan-dataset-music-genre-classification.zip to /content\n",
            " 99% 1.20G/1.21G [00:06<00:00, 161MB/s]\n",
            "100% 1.21G/1.21G [00:07<00:00, 186MB/s]\n"
          ]
        }
      ]
    },
    {
      "cell_type": "code",
      "source": [
        "!unzip \\*.zip -d '/content/gdrive/MyDrive/SpectrogramPlayer/GTZAN' && rm *.zip"
      ],
      "metadata": {
        "id": "Wre94ytErMIH"
      },
      "execution_count": null,
      "outputs": []
    },
    {
      "cell_type": "markdown",
      "source": [
        "## Urban8k dataset\n",
        "Dataset containing various acoustic scenes from the city"
      ],
      "metadata": {
        "id": "c1oH_gt8yaku"
      }
    },
    {
      "cell_type": "code",
      "source": [
        "!kaggle datasets download -d chrisfilo/urbansound8k"
      ],
      "metadata": {
        "id": "ghsfK17iz_0g"
      },
      "execution_count": null,
      "outputs": []
    },
    {
      "cell_type": "code",
      "source": [
        "!unzip \\*.zip -d '/content/gdrive/MyDrive/SpectrogramPlayer/URBAN8K' && rm *.zip"
      ],
      "metadata": {
        "id": "i-Zqy5P_yw8t"
      },
      "execution_count": null,
      "outputs": []
    },
    {
      "cell_type": "markdown",
      "source": [
        "## Tut Urban Acoustic Scenes dataset\n",
        "Dataset containing audio excerpts of urban sounds"
      ],
      "metadata": {
        "id": "V0K5EESgm26i"
      }
    },
    {
      "cell_type": "code",
      "source": [
        "base_url = \"https://zenodo.org/record/1228142/files/TUT-urban-acoustic-scenes-2018-development.audio.\"\n",
        "extension = \".zip\"\n",
        "\n",
        "for i in range(1, 14):\n",
        "  url_string = base_url + str(i) + extension\n",
        "  !wget $url_string>0"
      ],
      "metadata": {
        "id": "sp6lFTS3skWk"
      },
      "execution_count": null,
      "outputs": []
    },
    {
      "cell_type": "code",
      "source": [
        "!unzip \\*.zip -d '/content/gdrive/MyDrive/SpectrogramPlayer/TUT' && rm *.zip"
      ],
      "metadata": {
        "id": "Tn7kwA34to1F"
      },
      "execution_count": null,
      "outputs": []
    },
    {
      "cell_type": "markdown",
      "source": [
        "## MAESTRO dataset\n",
        "Dataset containing annotated piano performances"
      ],
      "metadata": {
        "id": "G9AbZ4iPvqSm"
      }
    },
    {
      "cell_type": "code",
      "source": [
        ""
      ],
      "metadata": {
        "id": "L_dyy9ljzO_U"
      },
      "execution_count": null,
      "outputs": []
    }
  ]
}